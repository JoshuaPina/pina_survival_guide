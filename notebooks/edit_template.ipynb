{
 "cells": [
  {
   "cell_type": "markdown",
   "id": "b1f18662",
   "metadata": {},
   "source": [
    "# 📝 Edit Task Schedule Template\n",
    "This notebook allows you to edit `task_schedule_template.csv` and customize recurring tasks."
   ]
  },
  {
   "cell_type": "code",
   "execution_count": null,
   "id": "7250a717",
   "metadata": {},
   "outputs": [],
   "source": [
    "import pandas as pd\n",
    "\n",
    "# Load the task schedule template\n",
    "path = '../templates/task_schedule_template.csv'\n",
    "df = pd.read_csv(path)\n",
    "df.head()"
   ]
  },
  {
   "cell_type": "markdown",
   "id": "01ec205b",
   "metadata": {},
   "source": [
    "## ✅ Edit the DataFrame below"
   ]
  },
  {
   "cell_type": "code",
   "execution_count": null,
   "id": "8d70dc7e",
   "metadata": {},
   "outputs": [],
   "source": [
    "# Example edit: change a task or date\n",
    "df.loc[0, 'task'] = 'Updated task here'\n",
    "df.head()"
   ]
  },
  {
   "cell_type": "markdown",
   "id": "34377404",
   "metadata": {},
   "source": [
    "## 💾 Save Your Changes"
   ]
  },
  {
   "cell_type": "code",
   "execution_count": null,
   "id": "78e6f1ad",
   "metadata": {},
   "outputs": [],
   "source": [
    "df.to_csv(path, index=False)\n",
    "print('Saved successfully!')"
   ]
  }
 ],
 "metadata": {},
 "nbformat": 4,
 "nbformat_minor": 5
}
